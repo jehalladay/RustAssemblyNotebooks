{
 "cells": [
  {
   "cell_type": "markdown",
   "metadata": {},
   "source": [
    "## Beginners Rust and Web Assembly Notebook\n",
    "\n",
    "### Table of Contents\n",
    "    \n",
    "#### [1 - Compiling using rustc and cargo](Chapter_1.ipynb)\n",
    "\n",
    "#### [2 - Syntax, Data Types, and Output](Chapter_2.ipynb)\n",
    "\n",
    "#### [3](Chapter_3.ipynb)\n",
    "\n",
    "#### [4](Chapter_4.ipynb)\n",
    "\n",
    "#### [5](Chapter_5.ipynb)\n",
    "\n",
    "#### [6](Chapter_6.ipynb)"
   ]
  },
  {
   "cell_type": "code",
   "execution_count": null,
   "metadata": {},
   "outputs": [],
   "source": []
  }
 ],
 "metadata": {
  "kernelspec": {
   "display_name": "Rust",
   "language": "rust",
   "name": "rust"
  },
  "language_info": {
   "codemirror_mode": "rust",
   "file_extension": ".rs",
   "mimetype": "text/rust",
   "name": "Rust",
   "pygment_lexer": "rust",
   "version": ""
  }
 },
 "nbformat": 4,
 "nbformat_minor": 4
}
