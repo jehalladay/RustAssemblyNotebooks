{
 "cells": [
  {
   "cell_type": "markdown",
   "metadata": {},
   "source": [
    "# Chapter 1: Compiling a program in Rust using rustc and cargo"
   ]
  },
  {
   "cell_type": "markdown",
   "metadata": {},
   "source": [
    "## Creating your first Rust program\n",
    "\n",
    "    - Create your first Rust program by simply creating a text file and naming it <name>.rs\n",
    "    - Add the following code to create a simple program that will display \"Hello World!\" when run"
   ]
  },
  {
   "cell_type": "code",
   "execution_count": 2,
   "metadata": {},
   "outputs": [],
   "source": [
    "fn main() {\n",
    "    println!(\"Hello World!\");\n",
    "}"
   ]
  },
  {
   "cell_type": "markdown",
   "metadata": {},
   "source": [
    "### Compiling using the Rust Compiler\n",
    "\n",
    "    - Navigate to the directory of your rust program using your WSL or Linux terminal\n",
    "    - Run the following code\n",
    "    \n",
    "```bash\n",
    "    rustc <name>.rs\n",
    "    ./<name>\n",
    "```\n",
    "\n",
    "    - These commands should execute the code in main like below:"
   ]
  },
  {
   "cell_type": "code",
   "execution_count": 3,
   "metadata": {},
   "outputs": [
    {
     "name": "stdout",
     "output_type": "stream",
     "text": [
      "Hello World!\n"
     ]
    }
   ],
   "source": [
    "main();"
   ]
  },
  {
   "cell_type": "markdown",
   "metadata": {},
   "source": [
    "    - And in your current directory some files will be created. \n",
    "    - For WSL users a .exe and a .pdb file will be found."
   ]
  },
  {
   "cell_type": "markdown",
   "metadata": {},
   "source": [
    "![](media/chapter_1/compile1.png)"
   ]
  },
  {
   "cell_type": "code",
   "execution_count": null,
   "metadata": {},
   "outputs": [],
   "source": []
  },
  {
   "cell_type": "markdown",
   "metadata": {},
   "source": [
    "## Your second Rust Program: Hello_World_cargo:\n",
    "    - You can use the rust package manager cargo to compile and run your code quickly\n",
    "    - This method requires setting up a project using cargo\n",
    "    - To start execute the following code in your terminal.\n",
    "\n",
    "```bash\n",
    "    cargo new hello_world_cargo\n",
    "    cd hello_world_cargo\n",
    "    cargo run hello_world_cargo\n",
    "```\n",
    "\n",
    "    - Then following should print in your console"
   ]
  },
  {
   "cell_type": "code",
   "execution_count": 5,
   "metadata": {},
   "outputs": [
    {
     "name": "stdout",
     "output_type": "stream",
     "text": [
      "Hello, world!\n"
     ]
    }
   ],
   "source": [
    "main();"
   ]
  },
  {
   "cell_type": "markdown",
   "metadata": {},
   "source": [
    "    - If you navigate into your hello_world_cargo folder you will find a src and target directory\n",
    "    - The src directory will contain main.rs which contains the following code:"
   ]
  },
  {
   "cell_type": "code",
   "execution_count": 6,
   "metadata": {},
   "outputs": [],
   "source": [
    "fn main() {\n",
    "    println!(\"Hello, world!\");\n",
    "}"
   ]
  },
  {
   "cell_type": "markdown",
   "metadata": {},
   "source": [
    "    - You will also find a Cargo.toml and Cargo.lock file. \n",
    "    - These are used by Cargo to build your project\n",
    "    - Inside the target directory is an assortment of other files used for debugging the project.\n",
    "    - Inside the debug directory the hello_world_cargo.exe that was run is located.\n",
    "    \n",
    "## The demo programs created in chapter 1 are available in demo/chapter_1"
   ]
  },
  {
   "cell_type": "code",
   "execution_count": null,
   "metadata": {},
   "outputs": [],
   "source": []
  }
 ],
 "metadata": {
  "kernelspec": {
   "display_name": "Rust",
   "language": "rust",
   "name": "rust"
  },
  "language_info": {
   "codemirror_mode": "rust",
   "file_extension": ".rs",
   "mimetype": "text/rust",
   "name": "Rust",
   "pygment_lexer": "rust",
   "version": ""
  }
 },
 "nbformat": 4,
 "nbformat_minor": 4
}
